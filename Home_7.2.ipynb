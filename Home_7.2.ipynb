{
 "cells": [
  {
   "cell_type": "code",
   "execution_count": 100,
   "metadata": {
    "collapsed": true
   },
   "outputs": [],
   "source": [
    "import re, json\n",
    "from BeautifulSoup import *\n",
    "from pprint import pprint\n",
    "from selenium import webdriver"
   ]
  },
  {
   "cell_type": "code",
   "execution_count": 101,
   "metadata": {
    "collapsed": true
   },
   "outputs": [],
   "source": [
    "browser = webdriver.Chrome()\n",
    "url = \"https://staff.am/en\"\n",
    "browser.get(url)"
   ]
  },
  {
   "cell_type": "code",
   "execution_count": 102,
   "metadata": {},
   "outputs": [],
   "source": [
    "All = browser.find_element_by_link_text(\"TRAININGS\")"
   ]
  },
  {
   "cell_type": "code",
   "execution_count": 103,
   "metadata": {
    "collapsed": true
   },
   "outputs": [],
   "source": [
    "All.click()"
   ]
  },
  {
   "cell_type": "code",
   "execution_count": 104,
   "metadata": {
    "collapsed": true
   },
   "outputs": [],
   "source": [
    "html1 = browser.page_source"
   ]
  },
  {
   "cell_type": "code",
   "execution_count": 105,
   "metadata": {},
   "outputs": [],
   "source": [
    "page2 = browser.find_element_by_xpath('//*[@id=\"job-list-pagination\"]/ul/li[3]/a')\n",
    "page2.click()"
   ]
  },
  {
   "cell_type": "code",
   "execution_count": 106,
   "metadata": {},
   "outputs": [],
   "source": [
    "html2 = browser.page_source"
   ]
  },
  {
   "cell_type": "code",
   "execution_count": 107,
   "metadata": {
    "collapsed": true
   },
   "outputs": [],
   "source": [
    "page3 = browser.find_element_by_xpath('//*[@id=\"job-list-pagination\"]/ul/li[4]/a')\n",
    "page3.click()"
   ]
  },
  {
   "cell_type": "code",
   "execution_count": 108,
   "metadata": {
    "collapsed": true
   },
   "outputs": [],
   "source": [
    "html3 = browser.page_source\n",
    "browser.close()"
   ]
  },
  {
   "cell_type": "code",
   "execution_count": 152,
   "metadata": {},
   "outputs": [
    {
     "name": "stdout",
     "output_type": "stream",
     "text": [
      "[84000, 48000, 50000, 69000, 0, 0, 0, 0, 0, 0, 0, 73000, 52000, 96000, 45000, 96000, 125000, 4800, 0, 0, 0]\n"
     ]
    }
   ],
   "source": [
    "links = [html1,html2,html3]\n",
    "price=[]\n",
    "for i in links:\n",
    "    soup = BeautifulSoup(i)\n",
    "    div = soup.findAll(\"div\", attrs={'class':\"training-price job-inner\"})\n",
    "    for i in div:\n",
    "        if i.text == \"Price:                                        FREE\":\n",
    "            x = 0\n",
    "            price.append(x)\n",
    "        else:\n",
    "            y = re.findall(\"([0-9]+\\S+)AMD\", i.text)\n",
    "            z= int(re.sub(r',', r'',str(y[0])))\n",
    "            price.append(z)\n",
    "print price"
   ]
  },
  {
   "cell_type": "code",
   "execution_count": 154,
   "metadata": {},
   "outputs": [],
   "source": [
    "avg = sum(price)/len(price)"
   ]
  },
  {
   "cell_type": "code",
   "execution_count": 155,
   "metadata": {},
   "outputs": [
    {
     "name": "stdout",
     "output_type": "stream",
     "text": [
      "35371\n"
     ]
    }
   ],
   "source": [
    "print avg"
   ]
  }
 ],
 "metadata": {
  "kernelspec": {
   "display_name": "Python 2",
   "language": "python",
   "name": "python2"
  },
  "language_info": {
   "codemirror_mode": {
    "name": "ipython",
    "version": 2
   },
   "file_extension": ".py",
   "mimetype": "text/x-python",
   "name": "python",
   "nbconvert_exporter": "python",
   "pygments_lexer": "ipython2",
   "version": "2.7.13"
  }
 },
 "nbformat": 4,
 "nbformat_minor": 2
}
